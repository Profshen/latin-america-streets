{
 "cells": [
  {
   "cell_type": "code",
   "execution_count": 1,
   "metadata": {
    "collapsed": true
   },
   "outputs": [],
   "source": [
    "import os, osmnx as ox, geopandas as gpd, pandas as pd\n",
    "ox.config(log_console=True, log_file=True, use_cache=True)\n",
    "%matplotlib inline"
   ]
  },
  {
   "cell_type": "markdown",
   "metadata": {},
   "source": [
    "## Configure the script"
   ]
  },
  {
   "cell_type": "code",
   "execution_count": 2,
   "metadata": {
    "collapsed": true
   },
   "outputs": [],
   "source": [
    "network_type = 'drive_service'           #get drivable public streets + service roads/alleys\n",
    "retain_all = True                        #retain all components of graph, not just connected\n",
    "crs_osm = {'init':'epsg:4326'}           #crs that osm uses\n",
    "input_folder = 'input_data/shapefiles'   #the input urban areas shapefiles folder\n",
    "input_shp_filename = 'urban_edge_t3.shp' #the input shapefile name\n",
    "graphs_folder = 'output_data/graphs'     #output folder to save graphs\n",
    "output_path = 'output_data/stats'        #output folder to save the stats"
   ]
  },
  {
   "cell_type": "markdown",
   "metadata": {},
   "source": [
    "## Download the street networks with OSMnx\n",
    "\n",
    "Save them to shapefiles and GraphML"
   ]
  },
  {
   "cell_type": "code",
   "execution_count": 3,
   "metadata": {},
   "outputs": [],
   "source": [
    "for shapefile_folder in os.listdir(input_folder):\n",
    "    if not os.path.exists('{}/{}/{}.graphml'.format(graphs_folder, shapefile_folder, shapefile_folder)):\n",
    "        gdf = gpd.read_file('{}/{}/{}'.format(input_folder, shapefile_folder, input_shp_filename))\n",
    "        gdf = gdf.to_crs(crs_osm)\n",
    "        geometry = gdf.unary_union\n",
    "        G = ox.graph_from_polygon(polygon=geometry, network_type=network_type,\n",
    "                                  name=shapefile_folder, retain_all=retain_all)\n",
    "        ox.save_graph_shapefile(G, folder=graphs_folder, filename='{}/shapefiles'.format(shapefile_folder))\n",
    "        ox.save_graphml(G, folder=graphs_folder, filename='{}/{}.graphml'.format(shapefile_folder, shapefile_folder))"
   ]
  },
  {
   "cell_type": "markdown",
   "metadata": {},
   "source": [
    "## Calculate stats"
   ]
  },
  {
   "cell_type": "code",
   "execution_count": 4,
   "metadata": {
    "collapsed": true
   },
   "outputs": [],
   "source": [
    "rows = []\n",
    "for folder in os.listdir(graphs_folder):\n",
    "    for item in os.listdir('{}/{}'.format(graphs_folder, folder)):\n",
    "        if '.graphml' in item:\n",
    "            \n",
    "            # load each graphml file\n",
    "            G = ox.load_graphml(filename=item, folder='{}/{}'.format(graphs_folder, folder))\n",
    "            \n",
    "            # load the urban area boundary shapefile and calculate total area\n",
    "            gdf = gpd.read_file('{}/{}'.format(input_folder, folder))\n",
    "            area_m2 = gdf.unary_union.area\n",
    "            area_km2 = area_m2 / 1e6\n",
    "            \n",
    "            # calculate network stats with osmnx and add as new dataset row\n",
    "            stats = ox.basic_stats(G, area=area_m2)\n",
    "            row = {}\n",
    "            row['name'] = folder\n",
    "            row['area_km2'] = area_km2\n",
    "            row['intersect_count'] = stats['count_intersections'] \n",
    "            row['street_length_avg'] = stats['street_length_avg']\n",
    "            row['intersect_density_3way'] = stats['streets_per_node_counts'][3] / area_km2\n",
    "            row['intersect_density_4way'] = stats['streets_per_node_counts'][4] / area_km2\n",
    "            row['circuity_avg'] = stats['circuity_avg']\n",
    "            row['streets_per_node_avg'] = stats['streets_per_node_avg']\n",
    "            row['streets_per_node_stddev'] = pd.Series(G.graph['streets_per_node']).std()\n",
    "            rows.append(row)"
   ]
  },
  {
   "cell_type": "code",
   "execution_count": 5,
   "metadata": {},
   "outputs": [],
   "source": [
    "# convert stats dataset to dataframe and re-order columns to move name to the front\n",
    "df = pd.DataFrame(rows)\n",
    "cols = df.columns.tolist()\n",
    "cols.insert(0, cols.pop(cols.index('name')))\n",
    "df = df.reindex(columns=cols)"
   ]
  },
  {
   "cell_type": "code",
   "execution_count": 6,
   "metadata": {},
   "outputs": [
    {
     "data": {
      "text/html": [
       "<div>\n",
       "<table border=\"1\" class=\"dataframe\">\n",
       "  <thead>\n",
       "    <tr style=\"text-align: right;\">\n",
       "      <th></th>\n",
       "      <th>name</th>\n",
       "      <th>area_km2</th>\n",
       "      <th>circuity_avg</th>\n",
       "      <th>intersect_count</th>\n",
       "      <th>intersect_density_3way</th>\n",
       "      <th>intersect_density_4way</th>\n",
       "      <th>street_length_avg</th>\n",
       "      <th>streets_per_node_avg</th>\n",
       "      <th>streets_per_node_stddev</th>\n",
       "    </tr>\n",
       "  </thead>\n",
       "  <tbody>\n",
       "    <tr>\n",
       "      <th>0</th>\n",
       "      <td>Belo_Horizonte</td>\n",
       "      <td>2245.164249</td>\n",
       "      <td>1.039951</td>\n",
       "      <td>48627</td>\n",
       "      <td>15.388184</td>\n",
       "      <td>5.945667</td>\n",
       "      <td>110.990909</td>\n",
       "      <td>3.093634</td>\n",
       "      <td>0.793810</td>\n",
       "    </tr>\n",
       "    <tr>\n",
       "      <th>1</th>\n",
       "      <td>Bogota</td>\n",
       "      <td>2023.481175</td>\n",
       "      <td>1.038339</td>\n",
       "      <td>55991</td>\n",
       "      <td>19.268773</td>\n",
       "      <td>7.530092</td>\n",
       "      <td>78.107412</td>\n",
       "      <td>2.964267</td>\n",
       "      <td>0.898273</td>\n",
       "    </tr>\n",
       "    <tr>\n",
       "      <th>2</th>\n",
       "      <td>Buenos_Aires</td>\n",
       "      <td>6245.189028</td>\n",
       "      <td>1.010880</td>\n",
       "      <td>165175</td>\n",
       "      <td>11.666901</td>\n",
       "      <td>14.501082</td>\n",
       "      <td>103.933234</td>\n",
       "      <td>3.437733</td>\n",
       "      <td>0.753066</td>\n",
       "    </tr>\n",
       "    <tr>\n",
       "      <th>3</th>\n",
       "      <td>Cabimas</td>\n",
       "      <td>1926.709741</td>\n",
       "      <td>1.037303</td>\n",
       "      <td>7789</td>\n",
       "      <td>3.323801</td>\n",
       "      <td>0.713133</td>\n",
       "      <td>112.098145</td>\n",
       "      <td>2.817033</td>\n",
       "      <td>0.882992</td>\n",
       "    </tr>\n",
       "    <tr>\n",
       "      <th>4</th>\n",
       "      <td>Caracas</td>\n",
       "      <td>1487.630080</td>\n",
       "      <td>1.175846</td>\n",
       "      <td>11518</td>\n",
       "      <td>6.228699</td>\n",
       "      <td>1.402230</td>\n",
       "      <td>144.780658</td>\n",
       "      <td>2.729979</td>\n",
       "      <td>0.976056</td>\n",
       "    </tr>\n",
       "  </tbody>\n",
       "</table>\n",
       "</div>"
      ],
      "text/plain": [
       "             name     area_km2  circuity_avg  intersect_count  \\\n",
       "0  Belo_Horizonte  2245.164249      1.039951            48627   \n",
       "1          Bogota  2023.481175      1.038339            55991   \n",
       "2    Buenos_Aires  6245.189028      1.010880           165175   \n",
       "3         Cabimas  1926.709741      1.037303             7789   \n",
       "4         Caracas  1487.630080      1.175846            11518   \n",
       "\n",
       "   intersect_density_3way  intersect_density_4way  street_length_avg  \\\n",
       "0               15.388184                5.945667         110.990909   \n",
       "1               19.268773                7.530092          78.107412   \n",
       "2               11.666901               14.501082         103.933234   \n",
       "3                3.323801                0.713133         112.098145   \n",
       "4                6.228699                1.402230         144.780658   \n",
       "\n",
       "   streets_per_node_avg  streets_per_node_stddev  \n",
       "0              3.093634                 0.793810  \n",
       "1              2.964267                 0.898273  \n",
       "2              3.437733                 0.753066  \n",
       "3              2.817033                 0.882992  \n",
       "4              2.729979                 0.976056  "
      ]
     },
     "execution_count": 6,
     "metadata": {},
     "output_type": "execute_result"
    }
   ],
   "source": [
    "# save stats as csv\n",
    "df.to_csv('{}/stats.csv'.format(output_path), encoding='utf-8', index=False)\n",
    "df.head()"
   ]
  },
  {
   "cell_type": "code",
   "execution_count": null,
   "metadata": {
    "collapsed": true
   },
   "outputs": [],
   "source": []
  }
 ],
 "metadata": {
  "kernelspec": {
   "display_name": "Python 3",
   "language": "python",
   "name": "python3"
  },
  "language_info": {
   "codemirror_mode": {
    "name": "ipython",
    "version": 3
   },
   "file_extension": ".py",
   "mimetype": "text/x-python",
   "name": "python",
   "nbconvert_exporter": "python",
   "pygments_lexer": "ipython3",
   "version": "3.6.1"
  }
 },
 "nbformat": 4,
 "nbformat_minor": 2
}
